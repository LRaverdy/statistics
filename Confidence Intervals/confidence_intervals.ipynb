{
 "cells": [
  {
   "cell_type": "code",
   "execution_count": 172,
   "id": "a0158b15-023b-42f3-a3c5-2293211e1888",
   "metadata": {},
   "outputs": [],
   "source": [
    "import pandas as pd\n",
    "import math\n",
    "import plotly.express as px\n",
    "import numpy as np\n",
    "import seaborn as sns"
   ]
  },
  {
   "cell_type": "markdown",
   "id": "0b08618a-d548-408b-86ce-94026f99fffb",
   "metadata": {},
   "source": [
    "# Build confidence intervals"
   ]
  },
  {
   "cell_type": "markdown",
   "id": "3e1675ce-ec33-4246-8f27-d380d579b9a6",
   "metadata": {},
   "source": [
    "* Facebook would like to know the average time spent on their site. To do so, they launched a study on 100 people and asked them how much time they spend on Facebook per day:\n",
    "    1. Open the `Hours spent on Facebook.xlsx` file. \n",
    "    2. Calculate the mean and standard deviation of the dataset.\n",
    "    3. We would like to know the mean of the total population. Calculate the 95% confidence interval."
   ]
  },
  {
   "cell_type": "markdown",
   "id": "900be7be-f48d-441c-a0c1-7b781ced4b57",
   "metadata": {},
   "source": [
    "1. Visualize dataset distribution"
   ]
  },
  {
   "cell_type": "code",
   "execution_count": 173,
   "id": "f2e65b47-689f-46f9-b0e2-d957a9d7afc9",
   "metadata": {},
   "outputs": [
    {
     "data": {
      "text/html": [
       "<div>\n",
       "<style scoped>\n",
       "    .dataframe tbody tr th:only-of-type {\n",
       "        vertical-align: middle;\n",
       "    }\n",
       "\n",
       "    .dataframe tbody tr th {\n",
       "        vertical-align: top;\n",
       "    }\n",
       "\n",
       "    .dataframe thead th {\n",
       "        text-align: right;\n",
       "    }\n",
       "</style>\n",
       "<table border=\"1\" class=\"dataframe\">\n",
       "  <thead>\n",
       "    <tr style=\"text-align: right;\">\n",
       "      <th></th>\n",
       "      <th>Customer</th>\n",
       "      <th>Hours spent on Facebook on Mobile</th>\n",
       "    </tr>\n",
       "  </thead>\n",
       "  <tbody>\n",
       "    <tr>\n",
       "      <th>0</th>\n",
       "      <td>1</td>\n",
       "      <td>4.092475</td>\n",
       "    </tr>\n",
       "    <tr>\n",
       "      <th>1</th>\n",
       "      <td>2</td>\n",
       "      <td>7.233371</td>\n",
       "    </tr>\n",
       "    <tr>\n",
       "      <th>2</th>\n",
       "      <td>3</td>\n",
       "      <td>7.455792</td>\n",
       "    </tr>\n",
       "    <tr>\n",
       "      <th>3</th>\n",
       "      <td>4</td>\n",
       "      <td>7.253503</td>\n",
       "    </tr>\n",
       "    <tr>\n",
       "      <th>4</th>\n",
       "      <td>5</td>\n",
       "      <td>2.249682</td>\n",
       "    </tr>\n",
       "  </tbody>\n",
       "</table>\n",
       "</div>"
      ],
      "text/plain": [
       "   Customer   Hours spent on Facebook on Mobile\n",
       "0          1                           4.092475\n",
       "1          2                           7.233371\n",
       "2          3                           7.455792\n",
       "3          4                           7.253503\n",
       "4          5                           2.249682"
      ]
     },
     "metadata": {},
     "output_type": "display_data"
    },
    {
     "name": "stdout",
     "output_type": "stream",
     "text": [
      "(102, 2)\n"
     ]
    }
   ],
   "source": [
    "df = pd.read_excel(\"Hours Spent on Facebook.xlsx\")\n",
    "display(df.head())\n",
    "print(df.shape)"
   ]
  },
  {
   "cell_type": "code",
   "execution_count": 174,
   "id": "4cf768b0-ffe5-4a9a-ab74-c52b6fc13217",
   "metadata": {},
   "outputs": [
    {
     "data": {
      "image/png": "[encoded data removed]"
     },
     "metadata": {},
     "output_type": "display_data"
    }
   ],
   "source": [
    "fig = px.histogram(\n",
    "    df, \n",
    "    df.columns[1], \n",
    "    height=400, \n",
    "    width=600,\n",
    "    marginal=\"box\"\n",
    ")\n",
    "\n",
    "fig.update_layout(\n",
    "    template=\"plotly_dark\", \n",
    "    title=df.columns[1],\n",
    "    title_x=.5,\n",
    "    xaxis_title=None\n",
    ")\n",
    "\n",
    "fig.show(\"png\")"
   ]
  },
  {
   "cell_type": "markdown",
   "id": "cb99c496-a9c9-4b9a-9003-d58c6ac67161",
   "metadata": {},
   "source": [
    "2. Calculate the mean and standard deviation of the dataset."
   ]
  },
  {
   "cell_type": "code",
   "execution_count": 175,
   "id": "372276c6-f9be-4a4a-ba25-7d3126da9154",
   "metadata": {},
   "outputs": [
    {
     "name": "stdout",
     "output_type": "stream",
     "text": [
      "Calculating dataset mean :\n",
      "\n",
      "Customer                             51.500000\n",
      "Hours spent on Facebook on Mobile     4.847316\n",
      "dtype: float64\n",
      "\n",
      "----------------\n",
      "\n",
      "Calculating dataset standard deviation :\n",
      "\n",
      "Customer                             29.588849\n",
      "Hours spent on Facebook on Mobile     2.978913\n",
      "dtype: float64\n",
      "\n",
      "----------------\n",
      "\n",
      "Basic stats :\n",
      "         Customer   Hours spent on Facebook on Mobile\n",
      "count  102.000000                         102.000000\n",
      "mean    51.500000                           4.847316\n",
      "std     29.588849                           2.978913\n",
      "min      1.000000                           0.034569\n",
      "25%     26.250000                           2.300628\n",
      "50%     51.500000                           4.896723\n",
      "75%     76.750000                           7.529681\n",
      "max    102.000000                           9.969544\n"
     ]
    }
   ],
   "source": [
    "def basic_stats(data):\n",
    "    print(f\"Calculating dataset mean :\\n\\n{data.mean()}\")\n",
    "    print()\n",
    "    print(\"----------------\")\n",
    "    print()\n",
    "    print(f\"Calculating dataset standard deviation :\\n\\n{data.std()}\")\n",
    "    print()\n",
    "    print(\"----------------\")\n",
    "\n",
    "    # We can also use .describe() method\n",
    "\n",
    "    print(f\"\\nBasic stats :\\n {data.describe()}\")\n",
    "    \n",
    "basic_stats(df)"
   ]
  },
  {
   "cell_type": "markdown",
   "id": "98eb3971-a351-4bb8-9194-7c6c6110ba65",
   "metadata": {},
   "source": [
    "3. We would like to know the mean of the total population. Calculate the 95% confidence interval."
   ]
  },
  {
   "cell_type": "code",
   "execution_count": 176,
   "id": "7b340be0-d0e1-4b11-babd-ee375c49a5cd",
   "metadata": {},
   "outputs": [],
   "source": [
    "# Confidence interval\n",
    "# cl = [mu - E, mu + E] # mu = sample mean\n",
    "\n",
    "# Margin error formula\n",
    "# E = t * s / sqrt(n)\n",
    "\n",
    "def confidence_interval(data, col_n):\n",
    "    \n",
    "    cl_list = [1.28, 1.96, 3.09]\n",
    "    \n",
    "    for cl in cl_list:\n",
    "\n",
    "        mu = df.iloc[:, col_n].mean()\n",
    "        t = cl\n",
    "        s = df.iloc[:,  col_n].std()\n",
    "\n",
    "        srqt_n = len(data) ** .5\n",
    "\n",
    "        # Compute the margin of error\n",
    "        E =  t * s / srqt_n\n",
    "\n",
    "\n",
    "        cl = [mu - E, mu + E]\n",
    "\n",
    "        if t == 1.96:\n",
    "            confidence_level = 95\n",
    "        elif t == 1.28:\n",
    "            confidence_level = 80\n",
    "        elif t == 3.09:\n",
    "            confidence_level = 99.8\n",
    "\n",
    "\n",
    "        print(f\"We are {confidence_level}% confident that the true mean is bewteen {round(cl[0], 2)} and {round(cl[1], 2)}\")\n",
    "        print(\"----\")"
   ]
  },
  {
   "cell_type": "code",
   "execution_count": 177,
   "id": "d6b9226f-eceb-42e5-8c6a-4d5cc841b2db",
   "metadata": {},
   "outputs": [
    {
     "name": "stdout",
     "output_type": "stream",
     "text": [
      "We are 80% confident that the true mean is bewteen 4.47 and 5.22\n",
      "----\n",
      "We are 95% confident that the true mean is bewteen 4.27 and 5.43\n",
      "----\n",
      "We are 99.8% confident that the true mean is bewteen 3.94 and 5.76\n",
      "----\n"
     ]
    }
   ],
   "source": [
    "confidence_interval(data=df, col_n=1)"
   ]
  },
  {
   "cell_type": "markdown",
   "id": "b40f8b75-cc2d-43ed-98c8-c5119bd2fcb5",
   "metadata": {},
   "source": [
    "___________"
   ]
  },
  {
   "cell_type": "markdown",
   "id": "4037986b-1847-44a0-8e1a-ac6fbb6e74a5",
   "metadata": {},
   "source": [
    "## Google"
   ]
  },
  {
   "cell_type": "markdown",
   "id": "5564dfe3-bc52-476f-9a3c-d172f5f3f414",
   "metadata": {},
   "source": [
    "* Google would like to know the mean monthly revenue generated per client on their Adwords platform. Due to lack of time, they have launched a questionnaire on only 30 people.  \n",
    "    1. Open the `monthly_spending_adwords.xlsx` file.\n",
    "    2. Calculate the mean and standard deviation of the dataset.\n",
    "    3. We would like to know the mean of the total population. Calculate the 95% confidence interval.  "
   ]
  },
  {
   "cell_type": "markdown",
   "id": "b7c52636-44f1-42ca-837e-4a2ec24fb621",
   "metadata": {},
   "source": [
    "1. Visualize dataset distribution"
   ]
  },
  {
   "cell_type": "code",
   "execution_count": 178,
   "id": "1f9265c9-92ac-4e9d-a60d-b4ddd08e76d8",
   "metadata": {},
   "outputs": [
    {
     "data": {
      "text/html": [
       "<div>\n",
       "<style scoped>\n",
       "    .dataframe tbody tr th:only-of-type {\n",
       "        vertical-align: middle;\n",
       "    }\n",
       "\n",
       "    .dataframe tbody tr th {\n",
       "        vertical-align: top;\n",
       "    }\n",
       "\n",
       "    .dataframe thead th {\n",
       "        text-align: right;\n",
       "    }\n",
       "</style>\n",
       "<table border=\"1\" class=\"dataframe\">\n",
       "  <thead>\n",
       "    <tr style=\"text-align: right;\">\n",
       "      <th></th>\n",
       "      <th>Monthly spending</th>\n",
       "    </tr>\n",
       "  </thead>\n",
       "  <tbody>\n",
       "    <tr>\n",
       "      <th>0</th>\n",
       "      <td>562.460391</td>\n",
       "    </tr>\n",
       "    <tr>\n",
       "      <th>1</th>\n",
       "      <td>382.543660</td>\n",
       "    </tr>\n",
       "    <tr>\n",
       "      <th>2</th>\n",
       "      <td>947.684175</td>\n",
       "    </tr>\n",
       "    <tr>\n",
       "      <th>3</th>\n",
       "      <td>425.084351</td>\n",
       "    </tr>\n",
       "    <tr>\n",
       "      <th>4</th>\n",
       "      <td>546.562302</td>\n",
       "    </tr>\n",
       "  </tbody>\n",
       "</table>\n",
       "</div>"
      ],
      "text/plain": [
       "   Monthly spending\n",
       "0        562.460391\n",
       "1        382.543660\n",
       "2        947.684175\n",
       "3        425.084351\n",
       "4        546.562302"
      ]
     },
     "execution_count": 178,
     "metadata": {},
     "output_type": "execute_result"
    }
   ],
   "source": [
    "df = pd.read_excel(\"Monthly spending on adwords.xlsx\")\n",
    "df.head()"
   ]
  },
  {
   "cell_type": "code",
   "execution_count": 180,
   "id": "00c3a66f-0503-4284-9a98-0223df116c2c",
   "metadata": {},
   "outputs": [
    {
     "data": {
      "image/png": "[encoded data removed]"
     },
     "metadata": {},
     "output_type": "display_data"
    },
    {
     "data": {
      "application/vnd.plotly.v1+json": {
       "config": {
        "plotlyServerURL": "https://plot.ly"
       },
       "data": [
        {
         "alignmentgroup": "True",
         "bingroup": "x",
         "hovertemplate": "Monthly spending=%{x}<br>count=%{y}<extra></extra>",
         "legendgroup": "",
         "marker": {
          "color": "red",
          "pattern": {
           "shape": ""
          }
         },
         "name": "",
         "offsetgroup": "",
         "orientation": "v",
         "showlegend": false,
         "type": "histogram",
         "x": [
          562.4603908610546,
          382.5436597101204,
          947.6841751239389,
          425.08435087621854,
          546.5623017852224,
          133.86026073919533,
          783.9129198250063,
          347.53123344531923,
          666.2562859583031,
          351.7236348789644,
          176.3379308006171,
          443.8886083017606,
          497.32874524775195,
          287.97559592790014,
          232.07098173098916,
          481.5866510811776,
          249.38837544108372,
          452.0586952871888,
          127.81619449299365,
          183.78093381822703,
          752.9144717086051,
          120.16711080422627,
          761.0819279509726,
          488.00065633139343,
          268.3237634259039,
          573.228130479252,
          812.368105413164,
          950.2117255424095,
          865.7632048166896,
          853.4808799030874,
          519.566695509096
         ],
         "xaxis": "x",
         "yaxis": "y"
        },
        {
         "alignmentgroup": "True",
         "hovertemplate": "Monthly spending=%{x}<extra></extra>",
         "legendgroup": "",
         "marker": {
          "color": "red"
         },
         "name": "",
         "notched": true,
         "offsetgroup": "",
         "showlegend": false,
         "type": "box",
         "x": [
          562.4603908610546,
          382.5436597101204,
          947.6841751239389,
          425.08435087621854,
          546.5623017852224,
          133.86026073919533,
          783.9129198250063,
          347.53123344531923,
          666.2562859583031,
          351.7236348789644,
          176.3379308006171,
          443.8886083017606,
          497.32874524775195,
          287.97559592790014,
          232.07098173098916,
          481.5866510811776,
          249.38837544108372,
          452.0586952871888,
          127.81619449299365,
          183.78093381822703,
          752.9144717086051,
          120.16711080422627,
          761.0819279509726,
          488.00065633139343,
          268.3237634259039,
          573.228130479252,
          812.368105413164,
          950.2117255424095,
          865.7632048166896,
          853.4808799030874,
          519.566695509096
         ],
         "xaxis": "x2",
         "yaxis": "y2"
        }
       ],
       "layout": {
        "barmode": "relative",
        "height": 400,
        "legend": {
         "tracegroupgap": 0
        },
        "margin": {
         "t": 60
        },
        "template": {
         "data": {
          "bar": [
           {
            "error_x": {
             "color": "#f2f5fa"
            },
            "error_y": {
             "color": "#f2f5fa"
            },
            "marker": {
             "line": {
              "color": "rgb(17,17,17)",
              "width": 0.5
             },
             "pattern": {
              "fillmode": "overlay",
              "size": 10,
              "solidity": 0.2
             }
            },
            "type": "bar"
           }
          ],
          "barpolar": [
           {
            "marker": {
             "line": {
              "color": "rgb(17,17,17)",
              "width": 0.5
             },
             "pattern": {
              "fillmode": "overlay",
              "size": 10,
              "solidity": 0.2
             }
            },
            "type": "barpolar"
           }
          ],
          "carpet": [
           {
            "aaxis": {
             "endlinecolor": "#A2B1C6",
             "gridcolor": "#506784",
             "linecolor": "#506784",
             "minorgridcolor": "#506784",
             "startlinecolor": "#A2B1C6"
            },
            "baxis": {
             "endlinecolor": "#A2B1C6",
             "gridcolor": "#506784",
             "linecolor": "#506784",
             "minorgridcolor": "#506784",
             "startlinecolor": "#A2B1C6"
            },
            "type": "carpet"
           }
          ],
          "choropleth": [
           {
            "colorbar": {
             "outlinewidth": 0,
             "ticks": ""
            },
            "type": "choropleth"
           }
          ],
          "contour": [
           {
            "colorbar": {
             "outlinewidth": 0,
             "ticks": ""
            },
            "colorscale": [
             [
              0,
              "#0d0887"
             ],
             [
              0.1111111111111111,
              "#46039f"
             ],
             [
              0.2222222222222222,
              "#7201a8"
             ],
             [
              0.3333333333333333,
              "#9c179e"
             ],
             [
              0.4444444444444444,
              "#bd3786"
             ],
             [
              0.5555555555555556,
              "#d8576b"
             ],
             [
              0.6666666666666666,
              "#ed7953"
             ],
             [
              0.7777777777777778,
              "#fb9f3a"
             ],
             [
              0.8888888888888888,
              "#fdca26"
             ],
             [
              1,
              "#f0f921"
             ]
            ],
            "type": "contour"
           }
          ],
          "contourcarpet": [
           {
            "colorbar": {
             "outlinewidth": 0,
             "ticks": ""
            },
            "type": "contourcarpet"
           }
          ],
          "heatmap": [
           {
            "colorbar": {
             "outlinewidth": 0,
             "ticks": ""
            },
            "colorscale": [
             [
              0,
              "#0d0887"
             ],
             [
              0.1111111111111111,
              "#46039f"
             ],
             [
              0.2222222222222222,
              "#7201a8"
             ],
             [
              0.3333333333333333,
              "#9c179e"
             ],
             [
              0.4444444444444444,
              "#bd3786"
             ],
             [
              0.5555555555555556,
              "#d8576b"
             ],
             [
              0.6666666666666666,
              "#ed7953"
             ],
             [
              0.7777777777777778,
              "#fb9f3a"
             ],
             [
              0.8888888888888888,
              "#fdca26"
             ],
             [
              1,
              "#f0f921"
             ]
            ],
            "type": "heatmap"
           }
          ],
          "heatmapgl": [
           {
            "colorbar": {
             "outlinewidth": 0,
             "ticks": ""
            },
            "colorscale": [
             [
              0,
              "#0d0887"
             ],
             [
              0.1111111111111111,
              "#46039f"
             ],
             [
              0.2222222222222222,
              "#7201a8"
             ],
             [
              0.3333333333333333,
              "#9c179e"
             ],
             [
              0.4444444444444444,
              "#bd3786"
             ],
             [
              0.5555555555555556,
              "#d8576b"
             ],
             [
              0.6666666666666666,
              "#ed7953"
             ],
             [
              0.7777777777777778,
              "#fb9f3a"
             ],
             [
              0.8888888888888888,
              "#fdca26"
             ],
             [
              1,
              "#f0f921"
             ]
            ],
            "type": "heatmapgl"
           }
          ],
          "histogram": [
           {
            "marker": {
             "pattern": {
              "fillmode": "overlay",
              "size": 10,
              "solidity": 0.2
             }
            },
            "type": "histogram"
           }
          ],
          "histogram2d": [
           {
            "colorbar": {
             "outlinewidth": 0,
             "ticks": ""
            },
            "colorscale": [
             [
              0,
              "#0d0887"
             ],
             [
              0.1111111111111111,
              "#46039f"
             ],
             [
              0.2222222222222222,
              "#7201a8"
             ],
             [
              0.3333333333333333,
              "#9c179e"
             ],
             [
              0.4444444444444444,
              "#bd3786"
             ],
             [
              0.5555555555555556,
              "#d8576b"
             ],
             [
              0.6666666666666666,
              "#ed7953"
             ],
             [
              0.7777777777777778,
              "#fb9f3a"
             ],
             [
              0.8888888888888888,
              "#fdca26"
             ],
             [
              1,
              "#f0f921"
             ]
            ],
            "type": "histogram2d"
           }
          ],
          "histogram2dcontour": [
           {
            "colorbar": {
             "outlinewidth": 0,
             "ticks": ""
            },
            "colorscale": [
             [
              0,
              "#0d0887"
             ],
             [
              0.1111111111111111,
              "#46039f"
             ],
             [
              0.2222222222222222,
              "#7201a8"
             ],
             [
              0.3333333333333333,
              "#9c179e"
             ],
             [
              0.4444444444444444,
              "#bd3786"
             ],
             [
              0.5555555555555556,
              "#d8576b"
             ],
             [
              0.6666666666666666,
              "#ed7953"
             ],
             [
              0.7777777777777778,
              "#fb9f3a"
             ],
             [
              0.8888888888888888,
              "#fdca26"
             ],
             [
              1,
              "#f0f921"
             ]
            ],
            "type": "histogram2dcontour"
           }
          ],
          "mesh3d": [
           {
            "colorbar": {
             "outlinewidth": 0,
             "ticks": ""
            },
            "type": "mesh3d"
           }
          ],
          "parcoords": [
           {
            "line": {
             "colorbar": {
              "outlinewidth": 0,
              "ticks": ""
             }
            },
            "type": "parcoords"
           }
          ],
          "pie": [
           {
            "automargin": true,
            "type": "pie"
           }
          ],
          "scatter": [
           {
            "marker": {
             "line": {
              "color": "#283442"
             }
            },
            "type": "scatter"
           }
          ],
          "scatter3d": [
           {
            "line": {
             "colorbar": {
              "outlinewidth": 0,
              "ticks": ""
             }
            },
            "marker": {
             "colorbar": {
              "outlinewidth": 0,
              "ticks": ""
             }
            },
            "type": "scatter3d"
           }
          ],
          "scattercarpet": [
           {
            "marker": {
             "colorbar": {
              "outlinewidth": 0,
              "ticks": ""
             }
            },
            "type": "scattercarpet"
           }
          ],
          "scattergeo": [
           {
            "marker": {
             "colorbar": {
              "outlinewidth": 0,
              "ticks": ""
             }
            },
            "type": "scattergeo"
           }
          ],
          "scattergl": [
           {
            "marker": {
             "line": {
              "color": "#283442"
             }
            },
            "type": "scattergl"
           }
          ],
          "scattermapbox": [
           {
            "marker": {
             "colorbar": {
              "outlinewidth": 0,
              "ticks": ""
             }
            },
            "type": "scattermapbox"
           }
          ],
          "scatterpolar": [
           {
            "marker": {
             "colorbar": {
              "outlinewidth": 0,
              "ticks": ""
             }
            },
            "type": "scatterpolar"
           }
          ],
          "scatterpolargl": [
           {
            "marker": {
             "colorbar": {
              "outlinewidth": 0,
              "ticks": ""
             }
            },
            "type": "scatterpolargl"
           }
          ],
          "scatterternary": [
           {
            "marker": {
             "colorbar": {
              "outlinewidth": 0,
              "ticks": ""
             }
            },
            "type": "scatterternary"
           }
          ],
          "surface": [
           {
            "colorbar": {
             "outlinewidth": 0,
             "ticks": ""
            },
            "colorscale": [
             [
              0,
              "#0d0887"
             ],
             [
              0.1111111111111111,
              "#46039f"
             ],
             [
              0.2222222222222222,
              "#7201a8"
             ],
             [
              0.3333333333333333,
              "#9c179e"
             ],
             [
              0.4444444444444444,
              "#bd3786"
             ],
             [
              0.5555555555555556,
              "#d8576b"
             ],
             [
              0.6666666666666666,
              "#ed7953"
             ],
             [
              0.7777777777777778,
              "#fb9f3a"
             ],
             [
              0.8888888888888888,
              "#fdca26"
             ],
             [
              1,
              "#f0f921"
             ]
            ],
            "type": "surface"
           }
          ],
          "table": [
           {
            "cells": {
             "fill": {
              "color": "#506784"
             },
             "line": {
              "color": "rgb(17,17,17)"
             }
            },
            "header": {
             "fill": {
              "color": "#2a3f5f"
             },
             "line": {
              "color": "rgb(17,17,17)"
             }
            },
            "type": "table"
           }
          ]
         },
         "layout": {
          "annotationdefaults": {
           "arrowcolor": "#f2f5fa",
           "arrowhead": 0,
           "arrowwidth": 1
          },
          "autotypenumbers": "strict",
          "coloraxis": {
           "colorbar": {
            "outlinewidth": 0,
            "ticks": ""
           }
          },
          "colorscale": {
           "diverging": [
            [
             0,
             "#8e0152"
            ],
            [
             0.1,
             "#c51b7d"
            ],
            [
             0.2,
             "#de77ae"
            ],
            [
             0.3,
             "#f1b6da"
            ],
            [
             0.4,
             "#fde0ef"
            ],
            [
             0.5,
             "#f7f7f7"
            ],
            [
             0.6,
             "#e6f5d0"
            ],
            [
             0.7,
             "#b8e186"
            ],
            [
             0.8,
             "#7fbc41"
            ],
            [
             0.9,
             "#4d9221"
            ],
            [
             1,
             "#276419"
            ]
           ],
           "sequential": [
            [
             0,
             "#0d0887"
            ],
            [
             0.1111111111111111,
             "#46039f"
            ],
            [
             0.2222222222222222,
             "#7201a8"
            ],
            [
             0.3333333333333333,
             "#9c179e"
            ],
            [
             0.4444444444444444,
             "#bd3786"
            ],
            [
             0.5555555555555556,
             "#d8576b"
            ],
            [
             0.6666666666666666,
             "#ed7953"
            ],
            [
             0.7777777777777778,
             "#fb9f3a"
            ],
            [
             0.8888888888888888,
             "#fdca26"
            ],
            [
             1,
             "#f0f921"
            ]
           ],
           "sequentialminus": [
            [
             0,
             "#0d0887"
            ],
            [
             0.1111111111111111,
             "#46039f"
            ],
            [
             0.2222222222222222,
             "#7201a8"
            ],
            [
             0.3333333333333333,
             "#9c179e"
            ],
            [
             0.4444444444444444,
             "#bd3786"
            ],
            [
             0.5555555555555556,
             "#d8576b"
            ],
            [
             0.6666666666666666,
             "#ed7953"
            ],
            [
             0.7777777777777778,
             "#fb9f3a"
            ],
            [
             0.8888888888888888,
             "#fdca26"
            ],
            [
             1,
             "#f0f921"
            ]
           ]
          },
          "colorway": [
           "#636efa",
           "#EF553B",
           "#00cc96",
           "#ab63fa",
           "#FFA15A",
           "#19d3f3",
           "#FF6692",
           "#B6E880",
           "#FF97FF",
           "#FECB52"
          ],
          "font": {
           "color": "#f2f5fa"
          },
          "geo": {
           "bgcolor": "rgb(17,17,17)",
           "lakecolor": "rgb(17,17,17)",
           "landcolor": "rgb(17,17,17)",
           "showlakes": true,
           "showland": true,
           "subunitcolor": "#506784"
          },
          "hoverlabel": {
           "align": "left"
          },
          "hovermode": "closest",
          "mapbox": {
           "style": "dark"
          },
          "paper_bgcolor": "rgb(17,17,17)",
          "plot_bgcolor": "rgb(17,17,17)",
          "polar": {
           "angularaxis": {
            "gridcolor": "#506784",
            "linecolor": "#506784",
            "ticks": ""
           },
           "bgcolor": "rgb(17,17,17)",
           "radialaxis": {
            "gridcolor": "#506784",
            "linecolor": "#506784",
            "ticks": ""
           }
          },
          "scene": {
           "xaxis": {
            "backgroundcolor": "rgb(17,17,17)",
            "gridcolor": "#506784",
            "gridwidth": 2,
            "linecolor": "#506784",
            "showbackground": true,
            "ticks": "",
            "zerolinecolor": "#C8D4E3"
           },
           "yaxis": {
            "backgroundcolor": "rgb(17,17,17)",
            "gridcolor": "#506784",
            "gridwidth": 2,
            "linecolor": "#506784",
            "showbackground": true,
            "ticks": "",
            "zerolinecolor": "#C8D4E3"
           },
           "zaxis": {
            "backgroundcolor": "rgb(17,17,17)",
            "gridcolor": "#506784",
            "gridwidth": 2,
            "linecolor": "#506784",
            "showbackground": true,
            "ticks": "",
            "zerolinecolor": "#C8D4E3"
           }
          },
          "shapedefaults": {
           "line": {
            "color": "#f2f5fa"
           }
          },
          "sliderdefaults": {
           "bgcolor": "#C8D4E3",
           "bordercolor": "rgb(17,17,17)",
           "borderwidth": 1,
           "tickwidth": 0
          },
          "ternary": {
           "aaxis": {
            "gridcolor": "#506784",
            "linecolor": "#506784",
            "ticks": ""
           },
           "baxis": {
            "gridcolor": "#506784",
            "linecolor": "#506784",
            "ticks": ""
           },
           "bgcolor": "rgb(17,17,17)",
           "caxis": {
            "gridcolor": "#506784",
            "linecolor": "#506784",
            "ticks": ""
           }
          },
          "title": {
           "x": 0.05
          },
          "updatemenudefaults": {
           "bgcolor": "#506784",
           "borderwidth": 0
          },
          "xaxis": {
           "automargin": true,
           "gridcolor": "#283442",
           "linecolor": "#506784",
           "ticks": "",
           "title": {
            "standoff": 15
           },
           "zerolinecolor": "#283442",
           "zerolinewidth": 2
          },
          "yaxis": {
           "automargin": true,
           "gridcolor": "#283442",
           "linecolor": "#506784",
           "ticks": "",
           "title": {
            "standoff": 15
           },
           "zerolinecolor": "#283442",
           "zerolinewidth": 2
          }
         }
        },
        "title": {
         "text": "Monthly spending on Google Adwords platform",
         "x": 0.5
        },
        "width": 600,
        "xaxis": {
         "anchor": "y",
         "autorange": true,
         "domain": [
          0,
          1
         ],
         "range": [
          0,
          1000.2228689920099
         ],
         "title": {},
         "type": "linear"
        },
        "xaxis2": {
         "anchor": "y2",
         "autorange": true,
         "domain": [
          0,
          1
         ],
         "matches": "x",
         "range": [
          0,
          1000.2228689920099
         ],
         "showgrid": true,
         "showticklabels": false,
         "type": "linear"
        },
        "yaxis": {
         "anchor": "x",
         "autorange": true,
         "domain": [
          0,
          0.8316
         ],
         "range": [
          0,
          10.526315789473685
         ],
         "title": {
          "text": "count"
         }
        },
        "yaxis2": {
         "anchor": "x2",
         "autorange": true,
         "domain": [
          0.8416,
          1
         ],
         "matches": "y2",
         "range": [
          -0.5,
          0.5
         ],
         "showgrid": false,
         "showline": false,
         "showticklabels": false,
         "ticks": "",
         "type": "category"
        }
       }
      },
      "image/png": "[encoded data removed]",
      "text/html": [
       "<div>                            <div id=\"27776bc9-880b-454b-a660-defde7edc52f\" class=\"plotly-graph-div\" style=\"height:400px; width:600px;\"></div>            <script type=\"text/javascript\">                require([\"plotly\"], function(Plotly) {                    window.PLOTLYENV=window.PLOTLYENV || {};                                    if (document.getElementById(\"27776bc9-880b-454b-a660-defde7edc52f\")) {                    Plotly.newPlot(                        \"27776bc9-880b-454b-a660-defde7edc52f\",                        [{\"alignmentgroup\":\"True\",\"bingroup\":\"x\",\"hovertemplate\":\"Monthly spending=%{x}<br>count=%{y}<extra></extra>\",\"legendgroup\":\"\",\"marker\":{\"color\":\"red\",\"pattern\":{\"shape\":\"\"}},\"name\":\"\",\"offsetgroup\":\"\",\"orientation\":\"v\",\"showlegend\":false,\"x\":[562.4603908610546,382.5436597101204,947.6841751239389,425.08435087621854,546.5623017852224,133.86026073919533,783.9129198250063,347.53123344531923,666.2562859583031,351.7236348789644,176.3379308006171,443.8886083017606,497.32874524775195,287.97559592790014,232.07098173098916,481.5866510811776,249.38837544108372,452.0586952871888,127.81619449299365,183.78093381822703,752.9144717086051,120.16711080422627,761.0819279509726,488.00065633139343,268.3237634259039,573.228130479252,812.368105413164,950.2117255424095,865.7632048166896,853.4808799030874,519.566695509096],\"xaxis\":\"x\",\"yaxis\":\"y\",\"type\":\"histogram\"},{\"alignmentgroup\":\"True\",\"hovertemplate\":\"Monthly spending=%{x}<extra></extra>\",\"legendgroup\":\"\",\"marker\":{\"color\":\"red\"},\"name\":\"\",\"notched\":true,\"offsetgroup\":\"\",\"showlegend\":false,\"x\":[562.4603908610546,382.5436597101204,947.6841751239389,425.08435087621854,546.5623017852224,133.86026073919533,783.9129198250063,347.53123344531923,666.2562859583031,351.7236348789644,176.3379308006171,443.8886083017606,497.32874524775195,287.97559592790014,232.07098173098916,481.5866510811776,249.38837544108372,452.0586952871888,127.81619449299365,183.78093381822703,752.9144717086051,120.16711080422627,761.0819279509726,488.00065633139343,268.3237634259039,573.228130479252,812.368105413164,950.2117255424095,865.7632048166896,853.4808799030874,519.566695509096],\"xaxis\":\"x2\",\"yaxis\":\"y2\",\"type\":\"box\"}],                        {\"template\":{\"data\":{\"barpolar\":[{\"marker\":{\"line\":{\"color\":\"rgb(17,17,17)\",\"width\":0.5},\"pattern\":{\"fillmode\":\"overlay\",\"size\":10,\"solidity\":0.2}},\"type\":\"barpolar\"}],\"bar\":[{\"error_x\":{\"color\":\"#f2f5fa\"},\"error_y\":{\"color\":\"#f2f5fa\"},\"marker\":{\"line\":{\"color\":\"rgb(17,17,17)\",\"width\":0.5},\"pattern\":{\"fillmode\":\"overlay\",\"size\":10,\"solidity\":0.2}},\"type\":\"bar\"}],\"carpet\":[{\"aaxis\":{\"endlinecolor\":\"#A2B1C6\",\"gridcolor\":\"#506784\",\"linecolor\":\"#506784\",\"minorgridcolor\":\"#506784\",\"startlinecolor\":\"#A2B1C6\"},\"baxis\":{\"endlinecolor\":\"#A2B1C6\",\"gridcolor\":\"#506784\",\"linecolor\":\"#506784\",\"minorgridcolor\":\"#506784\",\"startlinecolor\":\"#A2B1C6\"},\"type\":\"carpet\"}],\"choropleth\":[{\"colorbar\":{\"outlinewidth\":0,\"ticks\":\"\"},\"type\":\"choropleth\"}],\"contourcarpet\":[{\"colorbar\":{\"outlinewidth\":0,\"ticks\":\"\"},\"type\":\"contourcarpet\"}],\"contour\":[{\"colorbar\":{\"outlinewidth\":0,\"ticks\":\"\"},\"colorscale\":[[0.0,\"#0d0887\"],[0.1111111111111111,\"#46039f\"],[0.2222222222222222,\"#7201a8\"],[0.3333333333333333,\"#9c179e\"],[0.4444444444444444,\"#bd3786\"],[0.5555555555555556,\"#d8576b\"],[0.6666666666666666,\"#ed7953\"],[0.7777777777777778,\"#fb9f3a\"],[0.8888888888888888,\"#fdca26\"],[1.0,\"#f0f921\"]],\"type\":\"contour\"}],\"heatmapgl\":[{\"colorbar\":{\"outlinewidth\":0,\"ticks\":\"\"},\"colorscale\":[[0.0,\"#0d0887\"],[0.1111111111111111,\"#46039f\"],[0.2222222222222222,\"#7201a8\"],[0.3333333333333333,\"#9c179e\"],[0.4444444444444444,\"#bd3786\"],[0.5555555555555556,\"#d8576b\"],[0.6666666666666666,\"#ed7953\"],[0.7777777777777778,\"#fb9f3a\"],[0.8888888888888888,\"#fdca26\"],[1.0,\"#f0f921\"]],\"type\":\"heatmapgl\"}],\"heatmap\":[{\"colorbar\":{\"outlinewidth\":0,\"ticks\":\"\"},\"colorscale\":[[0.0,\"#0d0887\"],[0.1111111111111111,\"#46039f\"],[0.2222222222222222,\"#7201a8\"],[0.3333333333333333,\"#9c179e\"],[0.4444444444444444,\"#bd3786\"],[0.5555555555555556,\"#d8576b\"],[0.6666666666666666,\"#ed7953\"],[0.7777777777777778,\"#fb9f3a\"],[0.8888888888888888,\"#fdca26\"],[1.0,\"#f0f921\"]],\"type\":\"heatmap\"}],\"histogram2dcontour\":[{\"colorbar\":{\"outlinewidth\":0,\"ticks\":\"\"},\"colorscale\":[[0.0,\"#0d0887\"],[0.1111111111111111,\"#46039f\"],[0.2222222222222222,\"#7201a8\"],[0.3333333333333333,\"#9c179e\"],[0.4444444444444444,\"#bd3786\"],[0.5555555555555556,\"#d8576b\"],[0.6666666666666666,\"#ed7953\"],[0.7777777777777778,\"#fb9f3a\"],[0.8888888888888888,\"#fdca26\"],[1.0,\"#f0f921\"]],\"type\":\"histogram2dcontour\"}],\"histogram2d\":[{\"colorbar\":{\"outlinewidth\":0,\"ticks\":\"\"},\"colorscale\":[[0.0,\"#0d0887\"],[0.1111111111111111,\"#46039f\"],[0.2222222222222222,\"#7201a8\"],[0.3333333333333333,\"#9c179e\"],[0.4444444444444444,\"#bd3786\"],[0.5555555555555556,\"#d8576b\"],[0.6666666666666666,\"#ed7953\"],[0.7777777777777778,\"#fb9f3a\"],[0.8888888888888888,\"#fdca26\"],[1.0,\"#f0f921\"]],\"type\":\"histogram2d\"}],\"histogram\":[{\"marker\":{\"pattern\":{\"fillmode\":\"overlay\",\"size\":10,\"solidity\":0.2}},\"type\":\"histogram\"}],\"mesh3d\":[{\"colorbar\":{\"outlinewidth\":0,\"ticks\":\"\"},\"type\":\"mesh3d\"}],\"parcoords\":[{\"line\":{\"colorbar\":{\"outlinewidth\":0,\"ticks\":\"\"}},\"type\":\"parcoords\"}],\"pie\":[{\"automargin\":true,\"type\":\"pie\"}],\"scatter3d\":[{\"line\":{\"colorbar\":{\"outlinewidth\":0,\"ticks\":\"\"}},\"marker\":{\"colorbar\":{\"outlinewidth\":0,\"ticks\":\"\"}},\"type\":\"scatter3d\"}],\"scattercarpet\":[{\"marker\":{\"colorbar\":{\"outlinewidth\":0,\"ticks\":\"\"}},\"type\":\"scattercarpet\"}],\"scattergeo\":[{\"marker\":{\"colorbar\":{\"outlinewidth\":0,\"ticks\":\"\"}},\"type\":\"scattergeo\"}],\"scattergl\":[{\"marker\":{\"line\":{\"color\":\"#283442\"}},\"type\":\"scattergl\"}],\"scattermapbox\":[{\"marker\":{\"colorbar\":{\"outlinewidth\":0,\"ticks\":\"\"}},\"type\":\"scattermapbox\"}],\"scatterpolargl\":[{\"marker\":{\"colorbar\":{\"outlinewidth\":0,\"ticks\":\"\"}},\"type\":\"scatterpolargl\"}],\"scatterpolar\":[{\"marker\":{\"colorbar\":{\"outlinewidth\":0,\"ticks\":\"\"}},\"type\":\"scatterpolar\"}],\"scatter\":[{\"marker\":{\"line\":{\"color\":\"#283442\"}},\"type\":\"scatter\"}],\"scatterternary\":[{\"marker\":{\"colorbar\":{\"outlinewidth\":0,\"ticks\":\"\"}},\"type\":\"scatterternary\"}],\"surface\":[{\"colorbar\":{\"outlinewidth\":0,\"ticks\":\"\"},\"colorscale\":[[0.0,\"#0d0887\"],[0.1111111111111111,\"#46039f\"],[0.2222222222222222,\"#7201a8\"],[0.3333333333333333,\"#9c179e\"],[0.4444444444444444,\"#bd3786\"],[0.5555555555555556,\"#d8576b\"],[0.6666666666666666,\"#ed7953\"],[0.7777777777777778,\"#fb9f3a\"],[0.8888888888888888,\"#fdca26\"],[1.0,\"#f0f921\"]],\"type\":\"surface\"}],\"table\":[{\"cells\":{\"fill\":{\"color\":\"#506784\"},\"line\":{\"color\":\"rgb(17,17,17)\"}},\"header\":{\"fill\":{\"color\":\"#2a3f5f\"},\"line\":{\"color\":\"rgb(17,17,17)\"}},\"type\":\"table\"}]},\"layout\":{\"annotationdefaults\":{\"arrowcolor\":\"#f2f5fa\",\"arrowhead\":0,\"arrowwidth\":1},\"autotypenumbers\":\"strict\",\"coloraxis\":{\"colorbar\":{\"outlinewidth\":0,\"ticks\":\"\"}},\"colorscale\":{\"diverging\":[[0,\"#8e0152\"],[0.1,\"#c51b7d\"],[0.2,\"#de77ae\"],[0.3,\"#f1b6da\"],[0.4,\"#fde0ef\"],[0.5,\"#f7f7f7\"],[0.6,\"#e6f5d0\"],[0.7,\"#b8e186\"],[0.8,\"#7fbc41\"],[0.9,\"#4d9221\"],[1,\"#276419\"]],\"sequential\":[[0.0,\"#0d0887\"],[0.1111111111111111,\"#46039f\"],[0.2222222222222222,\"#7201a8\"],[0.3333333333333333,\"#9c179e\"],[0.4444444444444444,\"#bd3786\"],[0.5555555555555556,\"#d8576b\"],[0.6666666666666666,\"#ed7953\"],[0.7777777777777778,\"#fb9f3a\"],[0.8888888888888888,\"#fdca26\"],[1.0,\"#f0f921\"]],\"sequentialminus\":[[0.0,\"#0d0887\"],[0.1111111111111111,\"#46039f\"],[0.2222222222222222,\"#7201a8\"],[0.3333333333333333,\"#9c179e\"],[0.4444444444444444,\"#bd3786\"],[0.5555555555555556,\"#d8576b\"],[0.6666666666666666,\"#ed7953\"],[0.7777777777777778,\"#fb9f3a\"],[0.8888888888888888,\"#fdca26\"],[1.0,\"#f0f921\"]]},\"colorway\":[\"#636efa\",\"#EF553B\",\"#00cc96\",\"#ab63fa\",\"#FFA15A\",\"#19d3f3\",\"#FF6692\",\"#B6E880\",\"#FF97FF\",\"#FECB52\"],\"font\":{\"color\":\"#f2f5fa\"},\"geo\":{\"bgcolor\":\"rgb(17,17,17)\",\"lakecolor\":\"rgb(17,17,17)\",\"landcolor\":\"rgb(17,17,17)\",\"showlakes\":true,\"showland\":true,\"subunitcolor\":\"#506784\"},\"hoverlabel\":{\"align\":\"left\"},\"hovermode\":\"closest\",\"mapbox\":{\"style\":\"dark\"},\"paper_bgcolor\":\"rgb(17,17,17)\",\"plot_bgcolor\":\"rgb(17,17,17)\",\"polar\":{\"angularaxis\":{\"gridcolor\":\"#506784\",\"linecolor\":\"#506784\",\"ticks\":\"\"},\"bgcolor\":\"rgb(17,17,17)\",\"radialaxis\":{\"gridcolor\":\"#506784\",\"linecolor\":\"#506784\",\"ticks\":\"\"}},\"scene\":{\"xaxis\":{\"backgroundcolor\":\"rgb(17,17,17)\",\"gridcolor\":\"#506784\",\"gridwidth\":2,\"linecolor\":\"#506784\",\"showbackground\":true,\"ticks\":\"\",\"zerolinecolor\":\"#C8D4E3\"},\"yaxis\":{\"backgroundcolor\":\"rgb(17,17,17)\",\"gridcolor\":\"#506784\",\"gridwidth\":2,\"linecolor\":\"#506784\",\"showbackground\":true,\"ticks\":\"\",\"zerolinecolor\":\"#C8D4E3\"},\"zaxis\":{\"backgroundcolor\":\"rgb(17,17,17)\",\"gridcolor\":\"#506784\",\"gridwidth\":2,\"linecolor\":\"#506784\",\"showbackground\":true,\"ticks\":\"\",\"zerolinecolor\":\"#C8D4E3\"}},\"shapedefaults\":{\"line\":{\"color\":\"#f2f5fa\"}},\"sliderdefaults\":{\"bgcolor\":\"#C8D4E3\",\"bordercolor\":\"rgb(17,17,17)\",\"borderwidth\":1,\"tickwidth\":0},\"ternary\":{\"aaxis\":{\"gridcolor\":\"#506784\",\"linecolor\":\"#506784\",\"ticks\":\"\"},\"baxis\":{\"gridcolor\":\"#506784\",\"linecolor\":\"#506784\",\"ticks\":\"\"},\"bgcolor\":\"rgb(17,17,17)\",\"caxis\":{\"gridcolor\":\"#506784\",\"linecolor\":\"#506784\",\"ticks\":\"\"}},\"title\":{\"x\":0.05},\"updatemenudefaults\":{\"bgcolor\":\"#506784\",\"borderwidth\":0},\"xaxis\":{\"automargin\":true,\"gridcolor\":\"#283442\",\"linecolor\":\"#506784\",\"ticks\":\"\",\"title\":{\"standoff\":15},\"zerolinecolor\":\"#283442\",\"zerolinewidth\":2},\"yaxis\":{\"automargin\":true,\"gridcolor\":\"#283442\",\"linecolor\":\"#506784\",\"ticks\":\"\",\"title\":{\"standoff\":15},\"zerolinecolor\":\"#283442\",\"zerolinewidth\":2}}},\"xaxis\":{\"anchor\":\"y\",\"domain\":[0.0,1.0],\"title\":{}},\"yaxis\":{\"anchor\":\"x\",\"domain\":[0.0,0.8316],\"title\":{\"text\":\"count\"}},\"xaxis2\":{\"anchor\":\"y2\",\"domain\":[0.0,1.0],\"matches\":\"x\",\"showticklabels\":false,\"showgrid\":true},\"yaxis2\":{\"anchor\":\"x2\",\"domain\":[0.8416,1.0],\"matches\":\"y2\",\"showticklabels\":false,\"showline\":false,\"ticks\":\"\",\"showgrid\":false},\"legend\":{\"tracegroupgap\":0},\"margin\":{\"t\":60},\"barmode\":\"relative\",\"height\":400,\"width\":600,\"title\":{\"text\":\"Monthly spending on Google Adwords platform\",\"x\":0.5}},                        {\"responsive\": true}                    ).then(function(){\n",
       "                            \n",
       "var gd = document.getElementById('27776bc9-880b-454b-a660-defde7edc52f');\n",
       "var x = new MutationObserver(function (mutations, observer) {{\n",
       "        var display = window.getComputedStyle(gd).display;\n",
       "        if (!display || display === 'none') {{\n",
       "            console.log([gd, 'removed!']);\n",
       "            Plotly.purge(gd);\n",
       "            observer.disconnect();\n",
       "        }}\n",
       "}});\n",
       "\n",
       "// Listen for the removal of the full notebook cells\n",
       "var notebookContainer = gd.closest('#notebook-container');\n",
       "if (notebookContainer) {{\n",
       "    x.observe(notebookContainer, {childList: true});\n",
       "}}\n",
       "\n",
       "// Listen for the clearing of the current output cell\n",
       "var outputEl = gd.closest('.output');\n",
       "if (outputEl) {{\n",
       "    x.observe(outputEl, {childList: true});\n",
       "}}\n",
       "\n",
       "                        })                };                });            </script>        </div>"
      ]
     },
     "metadata": {},
     "output_type": "display_data"
    }
   ],
   "source": [
    "fig = px.histogram(\n",
    "    df, \n",
    "    df.columns[0], \n",
    "    height=400, \n",
    "    width=600,\n",
    "    color_discrete_sequence=[\"red\"],\n",
    "    marginal=\"box\"\n",
    ")\n",
    "\n",
    "fig.update_layout(\n",
    "    template=\"plotly_dark\", \n",
    "    title=f\"{df.columns[0]} on Google Adwords platform\",\n",
    "    title_x=.5,\n",
    "    xaxis_title=None\n",
    ")\n",
    "\n",
    "fig.show(fig.show(\"png\"))"
   ]
  },
  {
   "cell_type": "markdown",
   "id": "b3e6e68f-a814-431a-82b1-7f486f1665f4",
   "metadata": {},
   "source": [
    "2. Calculate the mean and standard deviation of the dataset."
   ]
  },
  {
   "cell_type": "code",
   "execution_count": 181,
   "id": "4763de56-3937-4e6a-88fa-5d2666dbeb4d",
   "metadata": {},
   "outputs": [
    {
     "name": "stdout",
     "output_type": "stream",
     "text": [
      "Calculating dataset mean :\n",
      "\n",
      "Monthly spending    491.772858\n",
      "dtype: float64\n",
      "\n",
      "----------------\n",
      "\n",
      "Calculating dataset standard deviation :\n",
      "\n",
      "Monthly spending    253.962767\n",
      "dtype: float64\n",
      "\n",
      "----------------\n",
      "\n",
      "Basic stats :\n",
      "        Monthly spending\n",
      "count         31.000000\n",
      "mean         491.772858\n",
      "std          253.962767\n",
      "min          120.167111\n",
      "25%          278.149680\n",
      "50%          481.586651\n",
      "75%          709.585379\n",
      "max          950.211726\n"
     ]
    }
   ],
   "source": [
    "basic_stats(df)"
   ]
  },
  {
   "cell_type": "code",
   "execution_count": 81,
   "id": "35ed5fc0-9570-416c-923e-1d7b5725fee8",
   "metadata": {},
   "outputs": [
    {
     "name": "stdout",
     "output_type": "stream",
     "text": [
      "We are 80% confident that the true mean is bewteen 433.39 and 550.16\n",
      "----\n",
      "We are 95% confident that the true mean is bewteen 402.37 and 581.17\n",
      "----\n",
      "We are 99.8% confident that the true mean is bewteen 350.83 and 632.72\n",
      "----\n"
     ]
    }
   ],
   "source": [
    "confidence_interval(data=df, col_n=0)"
   ]
  },
  {
   "cell_type": "markdown",
   "id": "9f6cebfa-d606-4ffc-8f0d-83a855d1fc08",
   "metadata": {},
   "source": [
    "## Nintendo"
   ]
  },
  {
   "cell_type": "markdown",
   "id": "0ea65990-29cd-485b-93d8-2749b8bf00e3",
   "metadata": {},
   "source": [
    "* Nintendo is building their new console. However, the last console they launched was a disaster because no one bought it. This time, Nintendo would like to know how many cities they would have to survey to be 95% sure that they will build the right number of systems. The company will accept an error of 5000 consoles.  \n",
    "    1. Visualize dataset distribution\n",
    "    2. Calculate the mean and standard deviation of the dataset.\n",
    "    3. Set the margin of error to 5000.\n",
    "    4. Find the minimum number of cities to study.  "
   ]
  },
  {
   "cell_type": "code",
   "execution_count": 182,
   "id": "6ba65453-7cf3-47a9-a86d-81b0dcc6a1e1",
   "metadata": {
    "tags": []
   },
   "outputs": [
    {
     "data": {
      "text/html": [
       "<div>\n",
       "<style scoped>\n",
       "    .dataframe tbody tr th:only-of-type {\n",
       "        vertical-align: middle;\n",
       "    }\n",
       "\n",
       "    .dataframe tbody tr th {\n",
       "        vertical-align: top;\n",
       "    }\n",
       "\n",
       "    .dataframe thead th {\n",
       "        text-align: right;\n",
       "    }\n",
       "</style>\n",
       "<table border=\"1\" class=\"dataframe\">\n",
       "  <thead>\n",
       "    <tr style=\"text-align: right;\">\n",
       "      <th></th>\n",
       "      <th>City</th>\n",
       "      <th>Number of sales</th>\n",
       "    </tr>\n",
       "  </thead>\n",
       "  <tbody>\n",
       "    <tr>\n",
       "      <th>0</th>\n",
       "      <td>New York</td>\n",
       "      <td>65538.794054</td>\n",
       "    </tr>\n",
       "    <tr>\n",
       "      <th>1</th>\n",
       "      <td>San Francisco</td>\n",
       "      <td>45709.289870</td>\n",
       "    </tr>\n",
       "    <tr>\n",
       "      <th>2</th>\n",
       "      <td>Seattle</td>\n",
       "      <td>87417.957092</td>\n",
       "    </tr>\n",
       "    <tr>\n",
       "      <th>3</th>\n",
       "      <td>Denver</td>\n",
       "      <td>96461.186529</td>\n",
       "    </tr>\n",
       "    <tr>\n",
       "      <th>4</th>\n",
       "      <td>Austin</td>\n",
       "      <td>3665.528408</td>\n",
       "    </tr>\n",
       "  </tbody>\n",
       "</table>\n",
       "</div>"
      ],
      "text/plain": [
       "            City  Number of sales\n",
       "0       New York     65538.794054\n",
       "1  San Francisco     45709.289870\n",
       "2       Seattle      87417.957092\n",
       "3        Denver      96461.186529\n",
       "4        Austin       3665.528408"
      ]
     },
     "execution_count": 182,
     "metadata": {},
     "output_type": "execute_result"
    }
   ],
   "source": [
    "df = pd.read_excel(\"Number of switch sold.xlsx\")\n",
    "df.head()"
   ]
  },
  {
   "cell_type": "markdown",
   "id": "60c69739-6a51-4daa-a672-f101aac262a0",
   "metadata": {},
   "source": [
    "1. Visualize dataset distribution"
   ]
  },
  {
   "cell_type": "code",
   "execution_count": 185,
   "id": "d38ce9ea-d9df-42bf-9da6-7b780f96edd8",
   "metadata": {
    "tags": []
   },
   "outputs": [
    {
     "data": {
      "image/png": "[encoded data removed]"
     },
     "metadata": {},
     "output_type": "display_data"
    }
   ],
   "source": [
    "fig = px.histogram(\n",
    "    df, \n",
    "    df.columns[1], \n",
    "    height=400, \n",
    "    width=600,\n",
    "    color_discrete_sequence=[\"purple\"],\n",
    "    marginal=\"box\"\n",
    ")\n",
    "\n",
    "fig.update_layout(\n",
    "    template=\"plotly_dark\", \n",
    "    title=f\"{df.columns[1]}\",\n",
    "    title_x=.5,\n",
    "    xaxis_title=None\n",
    ")\n",
    "\n",
    "fig.show(\"png\")"
   ]
  },
  {
   "cell_type": "code",
   "execution_count": 184,
   "id": "69acd45b-3db4-440e-92f3-2e9958bda5ac",
   "metadata": {
    "tags": []
   },
   "outputs": [
    {
     "data": {
      "image/png": "[encoded data removed]"
     },
     "metadata": {},
     "output_type": "display_data"
    }
   ],
   "source": [
    "fig = px.bar(\n",
    "    df.sort_values(by=\"Number of sales\"), \n",
    "    y=\"City\",\n",
    "    x=\"Number of sales\", \n",
    "    height=500, \n",
    "    width=1000,\n",
    "    color=\"Number of sales\"\n",
    ")\n",
    "\n",
    "fig.update_layout(\n",
    "    template=\"plotly_dark\", \n",
    "    title=\"Total sales per city\",\n",
    "    title_x=.5,\n",
    "    xaxis_title=None\n",
    ")\n",
    "\n",
    "fig.show(\"png\")"
   ]
  },
  {
   "cell_type": "markdown",
   "id": "51f71789-c8c2-4350-9cc8-f20d4bb35b12",
   "metadata": {},
   "source": [
    "2. Calculate the mean and standard deviation of the dataset."
   ]
  },
  {
   "cell_type": "code",
   "execution_count": 83,
   "id": "d82f422f-0a2b-44cb-90bf-469f0c91dc1d",
   "metadata": {},
   "outputs": [
    {
     "name": "stdout",
     "output_type": "stream",
     "text": [
      "Calculating dataset mean :\n",
      "\n",
      "Number of sales    42996.940362\n",
      "dtype: float64\n",
      "\n",
      "----------------\n",
      "\n",
      "Calculating dataset standard deviation :\n",
      "\n",
      "Number of sales    28365.335357\n",
      "dtype: float64\n",
      "\n",
      "----------------\n",
      "\n",
      "Basic stats :\n",
      "        Number of sales\n",
      "count        20.000000\n",
      "mean      42996.940362\n",
      "std       28365.335357\n",
      "min        3665.528408\n",
      "25%       22542.368436\n",
      "50%       37796.541276\n",
      "75%       59758.083526\n",
      "max       98148.449852\n"
     ]
    },
    {
     "name": "stderr",
     "output_type": "stream",
     "text": [
      "C:\\Users\\Admin\\AppData\\Local\\Temp/ipykernel_10656/3626053901.py:2: FutureWarning:\n",
      "\n",
      "Dropping of nuisance columns in DataFrame reductions (with 'numeric_only=None') is deprecated; in a future version this will raise TypeError.  Select only valid columns before calling the reduction.\n",
      "\n",
      "C:\\Users\\Admin\\AppData\\Local\\Temp/ipykernel_10656/3626053901.py:6: FutureWarning:\n",
      "\n",
      "Dropping of nuisance columns in DataFrame reductions (with 'numeric_only=None') is deprecated; in a future version this will raise TypeError.  Select only valid columns before calling the reduction.\n",
      "\n"
     ]
    }
   ],
   "source": [
    "basic_stats(df)"
   ]
  },
  {
   "cell_type": "code",
   "execution_count": 86,
   "id": "cc78f2bc-a3c8-4fbd-8081-4b87f06b5602",
   "metadata": {},
   "outputs": [
    {
     "name": "stdout",
     "output_type": "stream",
     "text": [
      "We are 80% confident that the true mean is bewteen 34878.31 and 51115.57\n",
      "----\n",
      "We are 95% confident that the true mean is bewteen 30565.28 and 55428.6\n",
      "----\n",
      "We are 99.8% confident that the true mean is bewteen 23398.05 and 62595.83\n",
      "----\n"
     ]
    }
   ],
   "source": [
    "confidence_interval(df, 1)"
   ]
  },
  {
   "cell_type": "markdown",
   "id": "ea5fefae-967e-4f32-91c9-8d1b3bd0c93c",
   "metadata": {},
   "source": [
    "3. Set the margin of error to 5000."
   ]
  },
  {
   "cell_type": "code",
   "execution_count": 95,
   "id": "b2ac0cc0-a39c-4e5d-9c35-3e9247056eae",
   "metadata": {},
   "outputs": [],
   "source": [
    "E = 5000"
   ]
  },
  {
   "cell_type": "markdown",
   "id": "0d07bf26-75c1-4981-8510-dfea5c63e42d",
   "metadata": {},
   "source": [
    "4. Compute de minimal sample size needed to study"
   ]
  },
  {
   "cell_type": "code",
   "execution_count": 93,
   "id": "111fdc7a-69d4-48f2-8c37-11f7a5b512c9",
   "metadata": {},
   "outputs": [
    {
     "data": {
      "text/html": [
       "<div>\n",
       "<style scoped>\n",
       "    .dataframe tbody tr th:only-of-type {\n",
       "        vertical-align: middle;\n",
       "    }\n",
       "\n",
       "    .dataframe tbody tr th {\n",
       "        vertical-align: top;\n",
       "    }\n",
       "\n",
       "    .dataframe thead th {\n",
       "        text-align: right;\n",
       "    }\n",
       "</style>\n",
       "<table border=\"1\" class=\"dataframe\">\n",
       "  <thead>\n",
       "    <tr style=\"text-align: right;\">\n",
       "      <th></th>\n",
       "      <th>City</th>\n",
       "      <th>Number of sales</th>\n",
       "    </tr>\n",
       "  </thead>\n",
       "  <tbody>\n",
       "    <tr>\n",
       "      <th>0</th>\n",
       "      <td>New York</td>\n",
       "      <td>65538.794054</td>\n",
       "    </tr>\n",
       "    <tr>\n",
       "      <th>1</th>\n",
       "      <td>San Francisco</td>\n",
       "      <td>45709.289870</td>\n",
       "    </tr>\n",
       "    <tr>\n",
       "      <th>2</th>\n",
       "      <td>Seattle</td>\n",
       "      <td>87417.957092</td>\n",
       "    </tr>\n",
       "    <tr>\n",
       "      <th>3</th>\n",
       "      <td>Denver</td>\n",
       "      <td>96461.186529</td>\n",
       "    </tr>\n",
       "    <tr>\n",
       "      <th>4</th>\n",
       "      <td>Austin</td>\n",
       "      <td>3665.528408</td>\n",
       "    </tr>\n",
       "  </tbody>\n",
       "</table>\n",
       "</div>"
      ],
      "text/plain": [
       "            City  Number of sales\n",
       "0       New York     65538.794054\n",
       "1  San Francisco     45709.289870\n",
       "2       Seattle      87417.957092\n",
       "3        Denver      96461.186529\n",
       "4        Austin       3665.528408"
      ]
     },
     "execution_count": 93,
     "metadata": {},
     "output_type": "execute_result"
    }
   ],
   "source": [
    "df.head()"
   ]
  },
  {
   "cell_type": "code",
   "execution_count": 98,
   "id": "9b06eaa0-eead-4673-9daf-b5cd8ad79e04",
   "metadata": {},
   "outputs": [
    {
     "name": "stdout",
     "output_type": "stream",
     "text": [
      "Minimal sample size = 123.6368634876361\n"
     ]
    }
   ],
   "source": [
    "t = 1.96 # we want to be 95% sure\n",
    "std = df.iloc[:, 1].std()\n",
    "\n",
    "n = (t*std/E)**2\n",
    "print(f\"Minimal sample size = {n}\")"
   ]
  },
  {
   "cell_type": "markdown",
   "id": "0e848b95-62c3-419c-9ace-2e96877f3e2a",
   "metadata": {},
   "source": [
    "__________"
   ]
  },
  {
   "cell_type": "markdown",
   "id": "7df32cf5-82b0-4c3f-9dc7-1e36c82cf66b",
   "metadata": {},
   "source": [
    "## Apple"
   ]
  },
  {
   "cell_type": "markdown",
   "id": "9661f03e-61fa-46a8-b960-68367ea397c9",
   "metadata": {},
   "source": [
    "* Apple has just launched their new IOS for Iphone and would like to know if customers are satisfied with this version or not. They asked 40 people about their satisfaction with the OS and collected their answers. For educational purposes, we have marked the satisfied with a `1` and the dissatisfied with a `0`.\n",
    "    1. Open the `satisfaction apple release.xlsx` file.\n",
    "    2. Set the number n of people in the sample.\n",
    "    3. Calculate $k$, the number of people satisfied with the OS.\n",
    "    4. Calculate $p$, the proportion of people satisfied with the OS.\n",
    "    5. Calculate the confidence interval of the proportion of the population."
   ]
  },
  {
   "cell_type": "code",
   "execution_count": 186,
   "id": "758bb72d-765d-4dcf-9196-1931be6e2478",
   "metadata": {},
   "outputs": [
    {
     "data": {
      "text/html": [
       "<div>\n",
       "<style scoped>\n",
       "    .dataframe tbody tr th:only-of-type {\n",
       "        vertical-align: middle;\n",
       "    }\n",
       "\n",
       "    .dataframe tbody tr th {\n",
       "        vertical-align: top;\n",
       "    }\n",
       "\n",
       "    .dataframe thead th {\n",
       "        text-align: right;\n",
       "    }\n",
       "</style>\n",
       "<table border=\"1\" class=\"dataframe\">\n",
       "  <thead>\n",
       "    <tr style=\"text-align: right;\">\n",
       "      <th></th>\n",
       "      <th>Satisfied customer</th>\n",
       "    </tr>\n",
       "  </thead>\n",
       "  <tbody>\n",
       "    <tr>\n",
       "      <th>0</th>\n",
       "      <td>0</td>\n",
       "    </tr>\n",
       "    <tr>\n",
       "      <th>1</th>\n",
       "      <td>0</td>\n",
       "    </tr>\n",
       "    <tr>\n",
       "      <th>2</th>\n",
       "      <td>0</td>\n",
       "    </tr>\n",
       "    <tr>\n",
       "      <th>3</th>\n",
       "      <td>0</td>\n",
       "    </tr>\n",
       "    <tr>\n",
       "      <th>4</th>\n",
       "      <td>0</td>\n",
       "    </tr>\n",
       "  </tbody>\n",
       "</table>\n",
       "</div>"
      ],
      "text/plain": [
       "   Satisfied customer\n",
       "0                   0\n",
       "1                   0\n",
       "2                   0\n",
       "3                   0\n",
       "4                   0"
      ]
     },
     "metadata": {},
     "output_type": "display_data"
    },
    {
     "data": {
      "text/plain": [
       "(41, 1)"
      ]
     },
     "execution_count": 186,
     "metadata": {},
     "output_type": "execute_result"
    }
   ],
   "source": [
    "df = pd.read_excel(\"satisfaction apple release.xlsx\")\n",
    "display(df.head())\n",
    "df.shape"
   ]
  },
  {
   "cell_type": "code",
   "execution_count": 187,
   "id": "1d227d6a-97d3-4b82-9828-ec00bb0a4f85",
   "metadata": {},
   "outputs": [],
   "source": [
    "df[\"Satisfied customer\"] = df[\"Satisfied customer\"].apply(lambda x: \"Satisfied\" if x == 1\n",
    "                                                         else \"Dissatisfied\")"
   ]
  },
  {
   "cell_type": "code",
   "execution_count": 188,
   "id": "211ba274-ffa1-4325-baff-9a9e6d5f1eb1",
   "metadata": {},
   "outputs": [
    {
     "data": {
      "image/png": "[encoded data removed]"
     },
     "metadata": {},
     "output_type": "display_data"
    }
   ],
   "source": [
    "x = df[df.columns[0]].astype(str)\n",
    "\n",
    "fig = px.histogram(\n",
    "    df, \n",
    "    x=x, \n",
    "    height=400, \n",
    "    width=600,\n",
    "    color=x,\n",
    "    color_discrete_sequence=[\"darkred\", \"lightgreen\"]\n",
    ")\n",
    "\n",
    "fig.update_layout(\n",
    "    template=\"plotly_dark\", \n",
    "    title=df.columns[0],\n",
    "    title_x=.5,\n",
    "    xaxis_title=None\n",
    ")\n",
    "\n",
    "fig.show(\"png\")"
   ]
  },
  {
   "cell_type": "markdown",
   "id": "c871642f-31db-4fba-b4d8-e80a9b951dd9",
   "metadata": {},
   "source": [
    " 2. Set the number n of people in the sample.\n",
    " 3. Calculate $k$, the number of people satisfied with the OS.\n",
    " 4. Calculate $p$, the proportion of people satisfied with the OS.\n",
    " 5. Calculate the confidence interval of the proportion of the population."
   ]
  },
  {
   "cell_type": "code",
   "execution_count": 170,
   "id": "95d1f432-e77d-4414-8a1e-9d845eb8d579",
   "metadata": {},
   "outputs": [
    {
     "name": "stdout",
     "output_type": "stream",
     "text": [
      "Number of people in the sample : 41\n",
      "\n",
      "Number of people satisfied with the OS : 15\n",
      "\n",
      "Proportion of people satisfied with the OS : 36.59%\n",
      "\n",
      "We are 95% confident that real percentage is between 21.84% and 51.33%\n"
     ]
    }
   ],
   "source": [
    "# Calculate total number of people\n",
    "n = len(df)\n",
    "\n",
    "# Calculate number of people satisfied\n",
    "k = df[df['Satisfied customer'] == \"Satisfied\"].count()[0]\n",
    "\n",
    "# Calculate percentage of satisfied people\n",
    "p = k/n\n",
    "\n",
    "\n",
    "# Set Z Value : we use the normal distribution because the FINAL sample size n will probably be > 40\n",
    "z = 1.96\n",
    "\n",
    "# Calculate interval\n",
    "real_percentage = [(p - z*math.sqrt(p*(1-p)/n)) * 100, (p + z*math.sqrt(p*(1-p)/n)) * 100]\n",
    "\n",
    "print(f\"Number of people in the sample : {n}\\n\")\n",
    "print(f\"Number of people satisfied with the OS : {k}\\n\")\n",
    "print(f\"Proportion of people satisfied with the OS : {round(p*100,2)}%\\n\")\n",
    "print(f\"We are 95% confident that real percentage is between {round(real_percentage[0], 2)}% and {round(real_percentage[1], 2)}%\")"
   ]
  }
 ],
 "metadata": {
  "kernelspec": {
   "display_name": "Python 3 (ipykernel)",
   "language": "python",
   "name": "python3"
  },
  "language_info": {
   "codemirror_mode": {
    "name": "ipython",
    "version": 3
   },
   "file_extension": ".py",
   "mimetype": "text/x-python",
   "name": "python",
   "nbconvert_exporter": "python",
   "pygments_lexer": "ipython3",
   "version": "3.9.7"
  }
 },
 "nbformat": 4,
 "nbformat_minor": 5
}
