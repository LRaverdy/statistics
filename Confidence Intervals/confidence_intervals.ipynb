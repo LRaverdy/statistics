{
 "cells": [
  {
   "cell_type": "code",
   "execution_count": 1,
   "id": "a0158b15-023b-42f3-a3c5-2293211e1888",
   "metadata": {},
   "outputs": [],
   "source": [
    "import pandas as pd\n",
    "import plotly.express as px\n",
    "import numpy as np\n",
    "import seaborn as sns"
   ]
  },
  {
   "cell_type": "markdown",
   "id": "0b08618a-d548-408b-86ce-94026f99fffb",
   "metadata": {},
   "source": [
    "# Build confidence intervals"
   ]
  },
  {
   "cell_type": "markdown",
   "id": "3e1675ce-ec33-4246-8f27-d380d579b9a6",
   "metadata": {},
   "source": [
    "* Facebook would like to know the average time spent on their site. To do so, they launched a study on 100 people and asked them how much time they spend on Facebook per day:\n",
    "    1. Open the `Hours spent on Facebook.xlsx` file. \n",
    "    2. Calculate the mean and standard deviation of the dataset.\n",
    "    3. We would like to know the mean of the total population. Calculate the 95% confidence interval."
   ]
  },
  {
   "cell_type": "markdown",
   "id": "900be7be-f48d-441c-a0c1-7b781ced4b57",
   "metadata": {},
   "source": [
    "1. Open the `Hours spent on Facebook.xlsx` file. "
   ]
  },
  {
   "cell_type": "code",
   "execution_count": 2,
   "id": "f2e65b47-689f-46f9-b0e2-d957a9d7afc9",
   "metadata": {},
   "outputs": [
    {
     "data": {
      "text/html": [
       "<div>\n",
       "<style scoped>\n",
       "    .dataframe tbody tr th:only-of-type {\n",
       "        vertical-align: middle;\n",
       "    }\n",
       "\n",
       "    .dataframe tbody tr th {\n",
       "        vertical-align: top;\n",
       "    }\n",
       "\n",
       "    .dataframe thead th {\n",
       "        text-align: right;\n",
       "    }\n",
       "</style>\n",
       "<table border=\"1\" class=\"dataframe\">\n",
       "  <thead>\n",
       "    <tr style=\"text-align: right;\">\n",
       "      <th></th>\n",
       "      <th>Customer</th>\n",
       "      <th>Hours spent on Facebook on Mobile</th>\n",
       "    </tr>\n",
       "  </thead>\n",
       "  <tbody>\n",
       "    <tr>\n",
       "      <th>0</th>\n",
       "      <td>1</td>\n",
       "      <td>4.092475</td>\n",
       "    </tr>\n",
       "    <tr>\n",
       "      <th>1</th>\n",
       "      <td>2</td>\n",
       "      <td>7.233371</td>\n",
       "    </tr>\n",
       "    <tr>\n",
       "      <th>2</th>\n",
       "      <td>3</td>\n",
       "      <td>7.455792</td>\n",
       "    </tr>\n",
       "    <tr>\n",
       "      <th>3</th>\n",
       "      <td>4</td>\n",
       "      <td>7.253503</td>\n",
       "    </tr>\n",
       "    <tr>\n",
       "      <th>4</th>\n",
       "      <td>5</td>\n",
       "      <td>2.249682</td>\n",
       "    </tr>\n",
       "  </tbody>\n",
       "</table>\n",
       "</div>"
      ],
      "text/plain": [
       "   Customer   Hours spent on Facebook on Mobile\n",
       "0          1                           4.092475\n",
       "1          2                           7.233371\n",
       "2          3                           7.455792\n",
       "3          4                           7.253503\n",
       "4          5                           2.249682"
      ]
     },
     "execution_count": 2,
     "metadata": {},
     "output_type": "execute_result"
    }
   ],
   "source": [
    "df = pd.read_excel(\"Hours Spent on Facebook.xlsx\")\n",
    "df.head()"
   ]
  },
  {
   "cell_type": "markdown",
   "id": "cb99c496-a9c9-4b9a-9003-d58c6ac67161",
   "metadata": {},
   "source": [
    "2. Calculate the mean and standard deviation of the dataset."
   ]
  },
  {
   "cell_type": "code",
   "execution_count": 3,
   "id": "372276c6-f9be-4a4a-ba25-7d3126da9154",
   "metadata": {},
   "outputs": [
    {
     "name": "stdout",
     "output_type": "stream",
     "text": [
      "Calculating dataset mean :\n",
      "\n",
      "Customer                             51.500000\n",
      "Hours spent on Facebook on Mobile     4.847316\n",
      "dtype: float64\n",
      "\n",
      "----------------\n",
      "\n",
      "Calculating dataset standard deviation :\n",
      "\n",
      "Customer                             29.588849\n",
      "Hours spent on Facebook on Mobile     2.978913\n",
      "dtype: float64\n",
      "\n",
      "----------------\n",
      "\n",
      "Basic stats :\n",
      "         Customer   Hours spent on Facebook on Mobile\n",
      "count  102.000000                         102.000000\n",
      "mean    51.500000                           4.847316\n",
      "std     29.588849                           2.978913\n",
      "min      1.000000                           0.034569\n",
      "25%     26.250000                           2.300628\n",
      "50%     51.500000                           4.896723\n",
      "75%     76.750000                           7.529681\n",
      "max    102.000000                           9.969544\n"
     ]
    }
   ],
   "source": [
    "def basic_stats(data):\n",
    "    print(f\"Calculating dataset mean :\\n\\n{data.mean()}\")\n",
    "    print()\n",
    "    print(\"----------------\")\n",
    "    print()\n",
    "    print(f\"Calculating dataset standard deviation :\\n\\n{data.std()}\")\n",
    "    print()\n",
    "    print(\"----------------\")\n",
    "\n",
    "    # We can also use .describe() method\n",
    "\n",
    "    print(f\"\\nBasic stats :\\n {data.describe()}\")\n",
    "    \n",
    "basic_stats(df)"
   ]
  },
  {
   "cell_type": "markdown",
   "id": "98eb3971-a351-4bb8-9194-7c6c6110ba65",
   "metadata": {},
   "source": [
    "3. We would like to know the mean of the total population. Calculate the 95% confidence interval."
   ]
  },
  {
   "cell_type": "code",
   "execution_count": 4,
   "id": "7b340be0-d0e1-4b11-babd-ee375c49a5cd",
   "metadata": {},
   "outputs": [],
   "source": [
    "# Confidence interval\n",
    "# cl = [mu - E, mu + E] # mu = sample mean\n",
    "\n",
    "# Margin error formula\n",
    "# E = t * s / sqrt(n)\n",
    "\n",
    "def confidence_interval(data, col_n):\n",
    "    \n",
    "    cl_list = [1.28, 1.96, 3.09]\n",
    "    \n",
    "    for cl in cl_list:\n",
    "\n",
    "        mu = df.iloc[:, col_n].mean()\n",
    "        t = cl\n",
    "        s = df.iloc[:,  col_n].std()\n",
    "\n",
    "        srqt_n = len(data) ** .5\n",
    "\n",
    "        # Compute the margin of error\n",
    "        E =  t * s / srqt_n\n",
    "\n",
    "\n",
    "        cl = [mu - E, mu + E]\n",
    "\n",
    "        if t == 1.96:\n",
    "            confidence_level = 95\n",
    "        elif t == 1.28:\n",
    "            confidence_level = 80\n",
    "        elif t == 3.09:\n",
    "            confidence_level = 99.8\n",
    "\n",
    "\n",
    "        print(f\"We are {confidence_level}% confident that the true mean is bewteen {round(cl[0], 2)} and {round(cl[1], 2)}\")\n",
    "        print(\"----\")"
   ]
  },
  {
   "cell_type": "code",
   "execution_count": 5,
   "id": "d6b9226f-eceb-42e5-8c6a-4d5cc841b2db",
   "metadata": {},
   "outputs": [
    {
     "name": "stdout",
     "output_type": "stream",
     "text": [
      "We are 80% confident that the true mean is bewteen 4.47 and 5.22\n",
      "----\n",
      "We are 95% confident that the true mean is bewteen 4.27 and 5.43\n",
      "----\n",
      "We are 99.8% confident that the true mean is bewteen 3.94 and 5.76\n",
      "----\n"
     ]
    }
   ],
   "source": [
    "confidence_interval(data=df, col_n=1)"
   ]
  },
  {
   "cell_type": "markdown",
   "id": "b40f8b75-cc2d-43ed-98c8-c5119bd2fcb5",
   "metadata": {},
   "source": [
    "___________"
   ]
  },
  {
   "cell_type": "markdown",
   "id": "5564dfe3-bc52-476f-9a3c-d172f5f3f414",
   "metadata": {},
   "source": [
    "* Google would like to know the mean monthly revenue generated per client on their Adwords platform. Due to lack of time, they have launched a questionnaire on only 30 people.  \n",
    "    1. Open the `monthly_spending_adwords.xlsx` file.\n",
    "    2. Calculate the mean and standard deviation of the dataset.\n",
    "    3. We would like to know the mean of the total population. Calculate the 95% confidence interval.  "
   ]
  },
  {
   "cell_type": "markdown",
   "id": "b7c52636-44f1-42ca-837e-4a2ec24fb621",
   "metadata": {},
   "source": [
    "1. Open the `monthly_spending_adwords.xlsx` file."
   ]
  },
  {
   "cell_type": "code",
   "execution_count": 79,
   "id": "1f9265c9-92ac-4e9d-a60d-b4ddd08e76d8",
   "metadata": {},
   "outputs": [
    {
     "data": {
      "text/html": [
       "<div>\n",
       "<style scoped>\n",
       "    .dataframe tbody tr th:only-of-type {\n",
       "        vertical-align: middle;\n",
       "    }\n",
       "\n",
       "    .dataframe tbody tr th {\n",
       "        vertical-align: top;\n",
       "    }\n",
       "\n",
       "    .dataframe thead th {\n",
       "        text-align: right;\n",
       "    }\n",
       "</style>\n",
       "<table border=\"1\" class=\"dataframe\">\n",
       "  <thead>\n",
       "    <tr style=\"text-align: right;\">\n",
       "      <th></th>\n",
       "      <th>Monthly spending</th>\n",
       "    </tr>\n",
       "  </thead>\n",
       "  <tbody>\n",
       "    <tr>\n",
       "      <th>0</th>\n",
       "      <td>562.460391</td>\n",
       "    </tr>\n",
       "    <tr>\n",
       "      <th>1</th>\n",
       "      <td>382.543660</td>\n",
       "    </tr>\n",
       "    <tr>\n",
       "      <th>2</th>\n",
       "      <td>947.684175</td>\n",
       "    </tr>\n",
       "    <tr>\n",
       "      <th>3</th>\n",
       "      <td>425.084351</td>\n",
       "    </tr>\n",
       "    <tr>\n",
       "      <th>4</th>\n",
       "      <td>546.562302</td>\n",
       "    </tr>\n",
       "  </tbody>\n",
       "</table>\n",
       "</div>"
      ],
      "text/plain": [
       "   Monthly spending\n",
       "0        562.460391\n",
       "1        382.543660\n",
       "2        947.684175\n",
       "3        425.084351\n",
       "4        546.562302"
      ]
     },
     "execution_count": 79,
     "metadata": {},
     "output_type": "execute_result"
    }
   ],
   "source": [
    "df = pd.read_excel(\"Monthly spending on adwords.xlsx\")\n",
    "df.head()"
   ]
  },
  {
   "cell_type": "markdown",
   "id": "b3e6e68f-a814-431a-82b1-7f486f1665f4",
   "metadata": {},
   "source": [
    "2. Calculate the mean and standard deviation of the dataset."
   ]
  },
  {
   "cell_type": "code",
   "execution_count": 80,
   "id": "4763de56-3937-4e6a-88fa-5d2666dbeb4d",
   "metadata": {},
   "outputs": [
    {
     "name": "stdout",
     "output_type": "stream",
     "text": [
      "Calculating dataset mean :\n",
      "\n",
      "Monthly spending    491.772858\n",
      "dtype: float64\n",
      "\n",
      "----------------\n",
      "\n",
      "Calculating dataset standard deviation :\n",
      "\n",
      "Monthly spending    253.962767\n",
      "dtype: float64\n",
      "\n",
      "----------------\n",
      "\n",
      "Basic stats :\n",
      "        Monthly spending\n",
      "count         31.000000\n",
      "mean         491.772858\n",
      "std          253.962767\n",
      "min          120.167111\n",
      "25%          278.149680\n",
      "50%          481.586651\n",
      "75%          709.585379\n",
      "max          950.211726\n"
     ]
    }
   ],
   "source": [
    "basic_stats(df)"
   ]
  },
  {
   "cell_type": "code",
   "execution_count": 81,
   "id": "35ed5fc0-9570-416c-923e-1d7b5725fee8",
   "metadata": {},
   "outputs": [
    {
     "name": "stdout",
     "output_type": "stream",
     "text": [
      "We are 80% confident that the true mean is bewteen 433.39 and 550.16\n",
      "----\n",
      "We are 95% confident that the true mean is bewteen 402.37 and 581.17\n",
      "----\n",
      "We are 99.8% confident that the true mean is bewteen 350.83 and 632.72\n",
      "----\n"
     ]
    }
   ],
   "source": [
    "confidence_interval(data=df, col_n=0)"
   ]
  },
  {
   "cell_type": "code",
   "execution_count": null,
   "id": "ce0e8587-f846-4f2f-a30c-99cd577c7750",
   "metadata": {},
   "outputs": [],
   "source": []
  }
 ],
 "metadata": {
  "kernelspec": {
   "display_name": "Python 3 (ipykernel)",
   "language": "python",
   "name": "python3"
  },
  "language_info": {
   "codemirror_mode": {
    "name": "ipython",
    "version": 3
   },
   "file_extension": ".py",
   "mimetype": "text/x-python",
   "name": "python",
   "nbconvert_exporter": "python",
   "pygments_lexer": "ipython3",
   "version": "3.9.7"
  }
 },
 "nbformat": 4,
 "nbformat_minor": 5
}
